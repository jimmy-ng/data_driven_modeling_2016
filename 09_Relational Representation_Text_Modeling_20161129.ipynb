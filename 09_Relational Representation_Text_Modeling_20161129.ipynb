{
 "cells": [
  {
   "cell_type": "markdown",
   "metadata": {},
   "source": [
    "# Data Driven Modeling\n",
    "<hr style=\"height:3px;border:none;color:stillblue;background-color:black;\" />\n",
    "### PhD seminar series at Chair for Computer Aided Architectural Design (CAAD), ETH Zurich\n",
    "\n",
    "\n",
    "[Vahid Moosavi](href=https://vahidmoosavi.com/>)\n",
    "<hr style=\"height:1px;border:none;color:stillblue;background-color:black;\" />"
   ]
  },
  {
   "cell_type": "markdown",
   "metadata": {},
   "source": [
    "<a></a>\n",
    "\n",
    "# Ninth Session \n",
    "<hr style=\"height:1px;border:none;color:stillblue;background-color:steelblue;\" />\n",
    "<span style=\"color:steelblue;font-size: 1em;\"> 29 November 2016</span>\n"
   ]
  },
  {
   "cell_type": "markdown",
   "metadata": {},
   "source": [
    "# Markov Chains\n",
    "## Introduced by Andrei Markov in 1906\n",
    "![](Images/AAMarkov.jpg)\n",
    "## His original work on the sequence of charachters in language\n",
    "## One of the earilest data driven models of the langugae\n",
    "## Nevertheless, he didn't succeed as his model is data and computation intensive.\n",
    "## Later it was used extensively to study dynamic (stochastic) systems.\n",
    "## Recently, it was used as data driven representation approach.\n",
    "\n",
    "\n",
    "# Therefore, we discuss Markov Chains from the following aspects:\n",
    "\n",
    "* **From the point of view of dynamical systems**\n",
    "* **From the point of view of object representation**\n",
    "* **Properties and applications**\n",
    "* **Extensions to machine learning applications**"
   ]
  },
  {
   "cell_type": "markdown",
   "metadata": {},
   "source": [
    "### Topics to be discussed \n",
    "\n",
    "* **Text generation with Markov Chains**\n",
    "* **Markov Chains from the point of view of relational representation**\n",
    "* **Neuro-probablistic Models of the language**\n",
    "* ** Natural Language Modeling problems**\n"
   ]
  },
  {
   "cell_type": "code",
   "execution_count": 1,
   "metadata": {
    "collapsed": true
   },
   "outputs": [],
   "source": [
    "import warnings\n",
    "warnings.filterwarnings(\"ignore\")\n",
    "import pandas as pd\n",
    "import numpy as np\n",
    "from matplotlib import pyplot as plt\n",
    "pd.__version__\n",
    "import sys\n",
    "from scipy import stats\n",
    "import time\n",
    "import  pysparse\n",
    "from scipy.linalg import norm\n",
    "import sompylib.sompy as SOM\n",
    "\n",
    "%matplotlib inline"
   ]
  },
  {
   "cell_type": "markdown",
   "metadata": {},
   "source": [
    "## Generative examples of Markov"
   ]
  },
  {
   "cell_type": "markdown",
   "metadata": {},
   "source": [
    "# Example of sequence of characters in English texts"
   ]
  },
  {
   "cell_type": "code",
   "execution_count": 2,
   "metadata": {
    "collapsed": false
   },
   "outputs": [
    {
     "data": {
      "text/plain": [
       "25000"
      ]
     },
     "execution_count": 2,
     "metadata": {},
     "output_type": "execute_result"
    }
   ],
   "source": [
    "with open('./Data/IMDB_data/pos.txt','r') as infile:\n",
    "    reviews = infile.readlines()\n",
    "len(reviews)"
   ]
  },
  {
   "cell_type": "code",
   "execution_count": 3,
   "metadata": {
    "collapsed": false
   },
   "outputs": [
    {
     "data": {
      "text/plain": [
       "'Bromwell High is a cartoon comedy. It ran at the same time as some other programs about school life, such as \"Teachers\". My 35 years in the teaching profession lead me to believe that Bromwell High\\'s satire is much closer to reality than is \"Teachers\". The scramble to survive financially, the insightful students who can see right through their pathetic teachers\\' pomp, the pettiness of the whole situation, all remind me of the schools I knew and their students. When I saw the episode in which a student repeatedly tried to burn down the school, I immediately recalled ......... at .......... High. A classic line: INSPECTOR: I\\'m here to sack one of your teachers. STUDENT: Welcome to Bromwell High. I expect that many adults of my age think that Bromwell High is far fetched. What a pity that it isn\\'t!\\n'"
      ]
     },
     "execution_count": 3,
     "metadata": {},
     "output_type": "execute_result"
    }
   ],
   "source": [
    "reviews[0]"
   ]
  },
  {
   "cell_type": "code",
   "execution_count": 4,
   "metadata": {
    "collapsed": true
   },
   "outputs": [],
   "source": [
    "def cleanText(corpus):\n",
    "    import string\n",
    "    validchars = string.ascii_letters + string.digits + ' '\n",
    "    punctuation = \"\"\".,:;?!@(){}[]$1234567890\"\"\"\n",
    "    corpus = [z.lower().replace('\\n','') for z in corpus]\n",
    "    corpus = [z.replace('<br />', ' ') for z in corpus]\n",
    "    \n",
    "    for c in punctuation:\n",
    "        corpus =[z.replace(c, '') for z in corpus]\n",
    "    \n",
    "\n",
    "    corpus = [''.join(ch for ch in z if ch in validchars) for z in corpus]\n",
    "    \n",
    "    #treat punctuation as individual words\n",
    "    for c in punctuation:\n",
    "        corpus = [z.replace(c, ' %s '%c) for z in corpus]\n",
    "#     corpus = [z.split() for z in corpus]\n",
    "    corpus = [z.replace(' ', '_') for z in corpus]\n",
    "    return corpus\n"
   ]
  },
  {
   "cell_type": "code",
   "execution_count": 5,
   "metadata": {
    "collapsed": true
   },
   "outputs": [],
   "source": [
    "texts  = cleanText(reviews)"
   ]
  },
  {
   "cell_type": "code",
   "execution_count": 6,
   "metadata": {
    "collapsed": false
   },
   "outputs": [
    {
     "data": {
      "text/plain": [
       "'bromwell_high_is_a_cartoon_comedy_it_ran_at_the_same_time_as_some_other_programs_about_school_life_such_as_teachers_my__years_in_the_teaching_profession_lead_me_to_believe_that_bromwell_highs_satire_is_much_closer_to_reality_than_is_teachers_the_scramble_to_survive_financially_the_insightful_students_who_can_see_right_through_their_pathetic_teachers_pomp_the_pettiness_of_the_whole_situation_all_remind_me_of_the_schools_i_knew_and_their_students_when_i_saw_the_episode_in_which_a_student_repeatedly_tried_to_burn_down_the_school_i_immediately_recalled__at__high_a_classic_line_inspector_im_here_to_sack_one_of_your_teachers_student_welcome_to_bromwell_high_i_expect_that_many_adults_of_my_age_think_that_bromwell_high_is_far_fetched_what_a_pity_that_it_isnt'"
      ]
     },
     "execution_count": 6,
     "metadata": {},
     "output_type": "execute_result"
    }
   ],
   "source": [
    "texts[0]"
   ]
  },
  {
   "cell_type": "code",
   "execution_count": 7,
   "metadata": {
    "collapsed": false
   },
   "outputs": [
    {
     "data": {
      "text/plain": [
       "{'_': 0,\n",
       " 'a': 1,\n",
       " 'b': 2,\n",
       " 'c': 3,\n",
       " 'd': 4,\n",
       " 'e': 5,\n",
       " 'f': 6,\n",
       " 'g': 7,\n",
       " 'h': 8,\n",
       " 'i': 9,\n",
       " 'j': 10,\n",
       " 'k': 11,\n",
       " 'l': 12,\n",
       " 'm': 13,\n",
       " 'n': 14,\n",
       " 'o': 15,\n",
       " 'p': 16,\n",
       " 'q': 17,\n",
       " 'r': 18,\n",
       " 's': 19,\n",
       " 't': 20,\n",
       " 'u': 21,\n",
       " 'v': 22,\n",
       " 'w': 23,\n",
       " 'x': 24,\n",
       " 'y': 25,\n",
       " 'z': 26}"
      ]
     },
     "execution_count": 7,
     "metadata": {},
     "output_type": "execute_result"
    }
   ],
   "source": [
    "all_chars = '_abcdefghijklmnopqrstuvwxyz'\n",
    "dictionary = {}\n",
    "for i in range(len(all_chars)):\n",
    "    dictionary[all_chars[i]] = i\n",
    "dictionary"
   ]
  },
  {
   "cell_type": "code",
   "execution_count": 8,
   "metadata": {
    "collapsed": false
   },
   "outputs": [
    {
     "name": "stdout",
     "output_type": "stream",
     "text": [
      "25000\n"
     ]
    }
   ],
   "source": [
    "# building data with the format of sequence\n",
    "data = []\n",
    "for text in texts[:]:\n",
    "    d = []\n",
    "    for c in text:\n",
    "        d.append(dictionary[c])\n",
    "    data.append(d)\n",
    "print len(data)"
   ]
  },
  {
   "cell_type": "code",
   "execution_count": 9,
   "metadata": {
    "collapsed": true
   },
   "outputs": [],
   "source": [
    "def buildTM_from_sequential_data(data,states,irreducible=True):\n",
    "    # each row is a sequence of observation\n",
    "    n = len(states)\n",
    "    M = np.zeros((n,n))\n",
    "    for d in data:\n",
    "        for k in range(1,len(d)):\n",
    "            i = d[k-1]\n",
    "            \n",
    "            j = d[k]\n",
    "            M[i,j]= M[i,j] + 1\n",
    "    \n",
    "    eps = .001\n",
    "    for i in range(M.shape[0]):\n",
    "        s= sum(M[i])\n",
    "        \n",
    "        if s==0:\n",
    "            if irreducible==True:\n",
    "                M[i]=eps\n",
    "                M[i,i]=1.\n",
    "                s= sum(M[i])\n",
    "                M[i]=np.divide(M[i],s)\n",
    "            else:\n",
    "                M[i,i]=1.\n",
    "        else:\n",
    "            M[i]=np.divide(M[i],s)    \n",
    "    return M\n",
    "\n",
    "\n",
    "# Power iteration Method\n",
    "def simulate_markov(TM,verbose='on'):\n",
    "    e1 = time.time()\n",
    "    states_n = TM.shape[0]\n",
    "    pi = np.ones(states_n);  pi1 = np.zeros(states_n);\n",
    "    pi = np.random.rand(states_n)\n",
    "   \n",
    "    pi = pi/pi.sum()\n",
    "    n = norm(pi - pi1); i = 0;\n",
    "    diff = []\n",
    "    while n > 1e-6 and i <1*1e4 :\n",
    "        pi1 = TM.T.dot(pi).copy()\n",
    "        n = norm(pi - pi1); i += 1\n",
    "        diff.append(n)\n",
    "        pi = pi1.copy()\n",
    "    if verbose=='on':\n",
    "        print \"Iterating {} times in {}\".format(i, time.time() - e1)\n",
    "    \n",
    "    mixing_ = i\n",
    "    return pi1,mixing_"
   ]
  },
  {
   "cell_type": "code",
   "execution_count": 10,
   "metadata": {
    "collapsed": true
   },
   "outputs": [],
   "source": [
    "states = np.unique(dictionary.values())\n",
    "M_char = buildTM_from_sequential_data(data,states,irreducible=True)"
   ]
  },
  {
   "cell_type": "code",
   "execution_count": 11,
   "metadata": {
    "collapsed": true
   },
   "outputs": [],
   "source": [
    "chars = np.asarray([c for c in all_chars])"
   ]
  },
  {
   "cell_type": "markdown",
   "metadata": {},
   "source": [
    "## steady state probabilites : equal to the frequencies of characters"
   ]
  },
  {
   "cell_type": "code",
   "execution_count": 12,
   "metadata": {
    "collapsed": false
   },
   "outputs": [
    {
     "name": "stdout",
     "output_type": "stream",
     "text": [
      "Iterating 13 times in 0.000757932662964\n"
     ]
    },
    {
     "data": {
      "image/png": "[encoded data removed]",
      "text/plain": [
       "<matplotlib.figure.Figure at 0x11be0bcd0>"
      ]
     },
     "metadata": {},
     "output_type": "display_data"
    }
   ],
   "source": [
    "pi,mixing_ = simulate_markov(M_char,verbose='on')\n",
    "plt.plot(pi);\n",
    "plt.xticks(range(27),chars);\n",
    "plt.grid()"
   ]
  },
  {
   "cell_type": "markdown",
   "metadata": {},
   "source": [
    "# Markov chain as a generative model?!!\n",
    "## What is the next probable characters for a give charachter"
   ]
  },
  {
   "cell_type": "code",
   "execution_count": 13,
   "metadata": {
    "collapsed": false
   },
   "outputs": [
    {
     "name": "stdout",
     "output_type": "stream",
     "text": [
      "e\n",
      "_\n",
      "t\n",
      "h\n",
      "e\n",
      "_\n",
      "t\n",
      "h\n",
      "e\n",
      "_\n",
      "t\n",
      "h\n",
      "e\n",
      "_\n",
      "t\n",
      "h\n",
      "e\n",
      "_\n",
      "t\n",
      "h\n",
      "e\n"
     ]
    }
   ],
   "source": [
    "# To see if we can generate something\n",
    "n_state = M_char.shape[0]\n",
    "ind_initial = np.random.randint(0,n_state,size=1)\n",
    "print chars[ind_initial[0]]\n",
    "ind = ind_initial[0]\n",
    "for i in range(20):\n",
    "\n",
    "    \n",
    "    # If we take the most likely next chars, it quickly falls in a loop?!!\n",
    "    ind = np.argmax(M_char[ind])\n",
    "    \n",
    "    \n",
    "    # If we take the next char based on a random choice based on the probabilites \n",
    "#     ind = np.random.choice(range(M_char.shape[0]),size=1,p=M_char[ind])[0]\n",
    "    \n",
    "    print chars[ind]"
   ]
  },
  {
   "cell_type": "code",
   "execution_count": 14,
   "metadata": {
    "collapsed": false
   },
   "outputs": [
    {
     "name": "stdout",
     "output_type": "stream",
     "text": [
      "s\n",
      "_\n",
      "a\n",
      "r\n",
      "o\n",
      "n\n",
      "o\n",
      "n\n",
      "s\n",
      "_\n",
      "w\n",
      "a\n",
      "t\n",
      "o\n",
      "_\n",
      "e\n",
      "r\n",
      "e\n",
      "_\n",
      "w\n",
      "a\n"
     ]
    }
   ],
   "source": [
    "# To see if we can generate something\n",
    "n_state = M_char.shape[0]\n",
    "ind_initial = np.random.randint(0,n_state,size=1)\n",
    "print chars[ind_initial[0]]\n",
    "ind = ind_initial[0]\n",
    "for i in range(20):\n",
    "\n",
    "    \n",
    "#     If we take the most likely next chars, it quickly falls in a loop?!!\n",
    "#     ind = np.argmax(M_char[ind])\n",
    "    \n",
    "    \n",
    "    # If we take the next char based on a random choice based on the probabilites \n",
    "    ind = np.random.choice(range(M_char.shape[0]),size=1,p=M_char[ind])[0]\n",
    "    \n",
    "    print chars[ind]"
   ]
  },
  {
   "cell_type": "markdown",
   "metadata": {},
   "source": [
    "## at the char level, it is highly unlikely to expect something interesting"
   ]
  },
  {
   "cell_type": "markdown",
   "metadata": {},
   "source": [
    "# World level Markov chain\n",
    "## with more depth: higher order Markov chains"
   ]
  },
  {
   "cell_type": "code",
   "execution_count": 16,
   "metadata": {
    "collapsed": false
   },
   "outputs": [
    {
     "name": "stdout",
     "output_type": "stream",
     "text": [
      "0\n",
      "\n",
      "Ms\n",
      "1\n",
      "\n",
      "\n",
      "2\n",
      "\n",
      "I could be a bad thing? Never Again: It has done out what was still want to changed, or surprises like treasha! Congrats to leave from the grasp some extent\n",
      "3\n",
      "\n",
      "My own \"Western\" (i like a vivid matte how timeless \"The Amanda Bynes seems to ensure the Cameron said that most TV I love story of film-making team is my head has hope the film to modify the end we love it looks nice to create a quest for Catwoman (the delicious Paris with a very extensively, it had directed by everyone\n"
     ]
    }
   ],
   "source": [
    "# codes from https://github.com/codebox/markov-text\n",
    "import sys\n",
    "\n",
    "sys.path.insert(0, './markovtext')\n",
    "\n",
    "from db import Db\n",
    "from gen import Generator\n",
    "from parse import Parser\n",
    "from sql import Sql\n",
    "from rnd import Rnd\n",
    "import sys\n",
    "import sqlite3\n",
    "import codecs\n",
    "\n",
    "\n",
    "\n",
    "\n",
    "\n",
    "SENTENCE_SEPARATOR = '.'\n",
    "WORD_SEPARATOR = ' '\n",
    "\n",
    "args = ['','gen','IMDB2','2']\n",
    "\n",
    "if (len(args) < 3):\n",
    "\traise ValueError(usage)\n",
    "mode  = 'gen'\n",
    "name  = './markovtext/IMDB_N2'\n",
    "count = 4\n",
    "\n",
    "\n",
    "if mode == 'parse':\n",
    "    \n",
    "    depth = 2\n",
    "    file_name = './Data/IMDB_data/pos.txt'\n",
    "\n",
    "    db = Db(sqlite3.connect(name + '.db'), Sql())\n",
    "    db.setup(depth)\n",
    "\n",
    "    txt = codecs.open(file_name, 'r', 'utf-8').read()\n",
    "    Parser(name, db, SENTENCE_SEPARATOR, WORD_SEPARATOR).parse(txt)\n",
    "\n",
    "elif mode == 'gen':    \n",
    "    db = Db(sqlite3.connect(name + '.db'), Sql())\n",
    "    generator = Generator(name, db, Rnd())\n",
    "    for i in range(0, count):\n",
    "        print \"{}\\n\".format(i)\n",
    "        print generator.generate(WORD_SEPARATOR)\n",
    "        \n",
    "\n",
    "else:\n",
    "\traise ValueError(usage)"
   ]
  },
  {
   "cell_type": "markdown",
   "metadata": {
    "collapsed": true
   },
   "source": [
    "# As it can be seen it is far from reasonable\n",
    "### In fact, the problem of \"generative models\" is still an open question, unlike \"discriminative models\"\n",
    "# So, what can we do with this relational representation?\n",
    "# <a></a>\n"
   ]
  },
  {
   "cell_type": "markdown",
   "metadata": {},
   "source": [
    "# Representation Learning\n",
    "\n",
    "## Representation of objects based on a priori given features \n",
    "### Set theoretical defnition of universals --- > Abstract Universals\n",
    "![](Images/FeatureBasedRepresentation.jpg)\n",
    "# Representation of objects based on its context: Relational Representation\n",
    "### Category theoretical defnition of universals --- > Concrete Universals\n",
    "![](Images/RelationalRepresentation.jpg)\n",
    "\n",
    "### This is aslso called Distributional Semantic Models with references to (de Saussure, 1966; Harris, 1951 and Wittgenstein, 1963; Firth, 1957) \n",
    "sources from https://www.inf.uni-hamburg.de/en/inst/ab/lt/publications/cogalex-invited-biemann.pdf\n",
    "\n",
    "\n",
    "## Now when we look at the original idea of Markov in dealing with stochastic systems, it is pure relational \n",
    "\n",
    "## This is the case in many applications:\n",
    "* pixels in an image and their neighboring cells\n",
    "* A house and its neigborhood\n",
    "* A person and his friends\n",
    "* an ingridient in a food recepie\n",
    "* ..."
   ]
  },
  {
   "cell_type": "markdown",
   "metadata": {},
   "source": [
    "# co-occurance matrix\n",
    "### Now if we take each row as the representation of each char, we can assume that we have a proper representation. \n",
    "### In fact, we have a matrix form for our data, where each object (e.g. char or a word) is being represented based on its normalized co-occurance matrix \n"
   ]
  },
  {
   "cell_type": "markdown",
   "metadata": {},
   "source": [
    "### Char markov chain"
   ]
  },
  {
   "cell_type": "code",
   "execution_count": 17,
   "metadata": {
    "collapsed": false
   },
   "outputs": [
    {
     "name": "stdout",
     "output_type": "stream",
     "text": [
      "the selected char: i\n"
     ]
    },
    {
     "data": {
      "image/png": "[encoded data removed]",
      "text/plain": [
       "<matplotlib.figure.Figure at 0x1236cbfd0>"
      ]
     },
     "metadata": {},
     "output_type": "display_data"
    }
   ],
   "source": [
    "# For each char\n",
    "ind_initial = np.random.randint(0,n_state,size=1)[0]\n",
    "\n",
    "print 'the selected char: {}'.format(chars[ind_initial])\n",
    "plt.plot(range(M_char.shape[0]),M_char[ind_initial],'.-');\n",
    "\n",
    "plt.xticks(range(M_char.shape[0]),chars);\n",
    "plt.grid();"
   ]
  },
  {
   "cell_type": "markdown",
   "metadata": {},
   "source": [
    "### Let's train a SOM with this matrix and see how it works"
   ]
  },
  {
   "cell_type": "code",
   "execution_count": 18,
   "metadata": {
    "collapsed": false
   },
   "outputs": [
    {
     "name": "stdout",
     "output_type": "stream",
     "text": [
      "\n",
      "Total time elapsed: 2.790000 secodns\n",
      "final quantization error: 0.003545\n"
     ]
    }
   ],
   "source": [
    "import sompylib.sompy as SOM\n",
    "\n",
    "msz11 =20\n",
    "msz10 = 20\n",
    "\n",
    "X = M_char\n",
    "\n",
    "som_char = SOM.SOM('', X, mapsize = [msz10, msz11],norm_method = 'var',initmethod='pca')\n",
    "# som1 = SOM1.SOM('', X, mapsize = [msz10, msz11],norm_method = 'var',initmethod='pca')\n",
    "som_char.init_map()\n",
    "som_char.train(n_job = 1, shared_memory = 'no',verbose='final')\n",
    "codebook_char = som_char.codebook[:]\n",
    "codebook_char_n = SOM.denormalize_by(som_char.data_raw, codebook_char, n_method = 'var')"
   ]
  },
  {
   "cell_type": "code",
   "execution_count": 19,
   "metadata": {
    "collapsed": false
   },
   "outputs": [
    {
     "data": {
      "text/plain": [
       "array([[ 19,  13, 393],\n",
       "       [ 17,   4, 344],\n",
       "       [  5,   0, 100],\n",
       "       [  0,  19,  19],\n",
       "       [  9,   7, 187],\n",
       "       [ 19,  19, 399],\n",
       "       [  5,   9, 109],\n",
       "       [  6,  16, 136],\n",
       "       [  0,   9,   9],\n",
       "       [ 19,   8, 388],\n",
       "       [  4,  13,  93],\n",
       "       [  8,   4, 164],\n",
       "       [ 14,   0, 280],\n",
       "       [  4,   4,  84],\n",
       "       [ 14,  14, 294],\n",
       "       [ 19,   0, 380],\n",
       "       [  9,   0, 180],\n",
       "       [ 10,  14, 214],\n",
       "       [ 12,   4, 244],\n",
       "       [  9,  19, 199],\n",
       "       [  4,  19,  99],\n",
       "       [ 15,   8, 308],\n",
       "       [  0,   5,   5],\n",
       "       [  0,  14,  14],\n",
       "       [ 14,  19, 299],\n",
       "       [ 11,  10, 230],\n",
       "       [  0,   0,   0]])"
      ]
     },
     "execution_count": 19,
     "metadata": {},
     "output_type": "execute_result"
    }
   ],
   "source": [
    "# we projects all the vectors in SOM and visualize it \n",
    "xy = som_char.ind_to_xy(som_char.project_data(X))\n",
    "xy"
   ]
  },
  {
   "cell_type": "code",
   "execution_count": 20,
   "metadata": {
    "collapsed": false
   },
   "outputs": [
    {
     "data": {
      "text/plain": [
       "([], <a list of 0 Text yticklabel objects>)"
      ]
     },
     "execution_count": 20,
     "metadata": {},
     "output_type": "execute_result"
    },
    {
     "data": {
      "image/png": "[encoded data removed]",
      "text/plain": [
       "<matplotlib.figure.Figure at 0x1236ee390>"
      ]
     },
     "metadata": {},
     "output_type": "display_data"
    }
   ],
   "source": [
    "ax = plt.subplot(1,1,1)\n",
    "for i in range(len(X)):\n",
    "    plt.annotate(chars[i], (xy[i,1],xy[i,0]),size=20, va=\"center\")\n",
    "    plt.xlim((0,som_char.mapsize[0]))\n",
    "    plt.ylim((0,som_char.mapsize[0]))\n",
    "plt.xticks([])\n",
    "plt.yticks([])"
   ]
  },
  {
   "cell_type": "markdown",
   "metadata": {},
   "source": [
    "## In the char model, we can't make sure if it makes sense, maybe at the world level, it works\n",
    "### Nevertheless, we only represent each chars based on its relation with the next possible chars\n",
    "### And this means to loose lots of valuable data\n",
    "![](Images/RelationalMarkov.jpg)"
   ]
  },
  {
   "cell_type": "markdown",
   "metadata": {
    "collapsed": true
   },
   "source": [
    "## At the word level, defnitely we get better results, but..\n",
    "\n",
    "# We will have \"state space explosion\" with few amount of texts\n",
    "# Therefore, we need to perform some types of dimensionality reduction. \n",
    "### For example, to use PCA or  similar methods (LSA,LDA,SVD,...) to reduce the dimensionality.\n",
    "# Problems: Scalability and speed, memory,...!\n",
    "\n",
    "# <a></a>\n",
    "# <a></a>\n",
    "# <a></a>\n"
   ]
  },
  {
   "cell_type": "markdown",
   "metadata": {
    "collapsed": true
   },
   "source": [
    "<span style=\"color:red;font-size: 3em;\"> Neural embeddings!</span>\n",
    "<hr style=\"height:1px;border:none;color:stillblue;background-color:steelblue;\" />\n",
    "# A game changer idea: do not build the co-occurence matrix explicitly!\n",
    "### Instead learn a classifier that predicts a word given a context around the word or the other way around.\n",
    "### (Bengio et al. 2003) and Mikolov et al., 2013 known as Word2vec\n",
    "\n",
    "### In word2Vec there are two main models\n",
    "### <center> CBOW </center>\n",
    "![](Images/CBOW.png)\n",
    "\n",
    "\n",
    "\n",
    "### <center> Skipgram </center>\n",
    "![](Images/Skip-gram.png)\n",
    "\n",
    "\n",
    "* ** We have v unique words**\n",
    "* **each word is a one-hot v dimensional vector**\n",
    "* **we have Two matrice: W1(vxn) ,W2(nxv)**\n",
    "* **n is the dimension we choose (50-1000)**\n",
    "* **read arrows as dot product**\n",
    "* ** there is an objective function that implies: given a word the network should predict the contexts and vice versa**\n",
    "* ** if one can write a parametric objective function, there are usually severalmethods to find an optimum value for it**\n",
    "* ** In majorty of machine learning methods they use Stochastic Gradient Descent (SGD) along chain rule (we discuss them in detail in one session**\n",
    "* **After training the W1 has amazing features**\n",
    "\n",
    "** Details about training: http://www-personal.umich.edu/~ronxin/pdf/w2vexp.pdf**"
   ]
  },
  {
   "cell_type": "code",
   "execution_count": 21,
   "metadata": {
    "collapsed": true
   },
   "outputs": [],
   "source": [
    "## Just a hint to Gradient Descent"
   ]
  },
  {
   "cell_type": "code",
   "execution_count": 22,
   "metadata": {
    "collapsed": false
   },
   "outputs": [
    {
     "name": "stdout",
     "output_type": "stream",
     "text": [
      "1.50053826867\n"
     ]
    },
    {
     "data": {
      "image/png": "[encoded data removed]",
      "text/plain": [
       "<matplotlib.figure.Figure at 0x1236cb410>"
      ]
     },
     "metadata": {},
     "output_type": "display_data"
    }
   ],
   "source": [
    "x_old = 0\n",
    "x_new = 9\n",
    "eps = .001\n",
    "precision = .00001\n",
    "\n",
    "# y = x^2\n",
    "def f(x):\n",
    "    return np.power(x,4) -3*np.power(x,3)  + 2\n",
    "\n",
    "def f_deriv(x):\n",
    "    return 4*np.power(x,3) - 9*x\n",
    "\n",
    "\n",
    "\n",
    "counter = 0\n",
    "while abs(x_old-x_new)>precision:\n",
    "    x_old = x_new\n",
    "    x_new = x_old - eps*f_deriv(x_old)\n",
    "    plt.plot(x_new,f(x_new),'or')\n",
    "    counter = counter + 1\n",
    "print x_new \n",
    "\n",
    "for x in np.linspace(-10,10,100):\n",
    "    plt.plot(x,f(x),'.b',markersize=1)"
   ]
  },
  {
   "cell_type": "markdown",
   "metadata": {},
   "source": [
    "### in principle, in most of machine learning methods, we have a loss function which is differetiable to all the parameters.\n",
    "### Therefore, using the training data we gradually update the parameters toward a direction that minimizes the loss function\n",
    "\n",
    "### we will discuss it in more details later on neural networks\n",
    "### For now let's go back to Word2vec"
   ]
  },
  {
   "cell_type": "code",
   "execution_count": 23,
   "metadata": {
    "collapsed": false
   },
   "outputs": [],
   "source": [
    "#### We use a beautiful library called, gensim\n",
    "import gensim\n",
    "from gensim import corpora, models, similarities\n",
    "import logging\n",
    "logging.basicConfig(format='%(asctime)s : %(levelname)s : %(message)s', level=logging.INFO)"
   ]
  },
  {
   "cell_type": "code",
   "execution_count": 24,
   "metadata": {
    "collapsed": true
   },
   "outputs": [],
   "source": [
    "# from gensim.models import word2vec\n",
    "# # get the pretrained vector from https://code.google.com/archive/p/word2vec/\n",
    "# Google_w2v = word2vec.Word2Vec.load_word2vec_format('/Users/SVM/Downloads/GoogleNews-vectors-negative300.bin', binary=True)"
   ]
  },
  {
   "cell_type": "code",
   "execution_count": 25,
   "metadata": {
    "collapsed": true
   },
   "outputs": [],
   "source": [
    "# print Google_w2v.most_similar(['girl', 'father'], ['boy'], topn=1)\n",
    "# print Google_w2v.most_similar(positive=['woman', 'king'], negative=['man'], topn=10)"
   ]
  },
  {
   "cell_type": "markdown",
   "metadata": {},
   "source": [
    "# What can be done with Word2vec?\n",
    "## In general the learned densed vectors can be used in any other tasks that require fixed lenght vectors. \n",
    "### Some of interesting applications:\n",
    "* **In Fashion industry:**\n",
    "    * http://multithreaded.stitchfix.com/blog/2015/03/11/word-is-worth-a-thousand-vectors/\n",
    "    * http://developers.lyst.com/2014/11/11/word-embeddings-for-fashion/\n",
    "    * In combination with topic modeling http://www.slideshare.net/ChristopherMoody3/word2vec-lda-and-introducing-a-new-hybrid-algorithm-lda2vec-57135994\n",
    "* ** Any recommendation system**\n",
    "    * **music selection considering user's playlists**\n",
    "    * **Shopping baskets**\n",
    "* **Graphical data: Deep Walk:**\n",
    "    * https://sites.google.com/site/bryanperozzi/projects/deepwalk\n",
    "* **Sentiment Analysis**\n"
   ]
  },
  {
   "cell_type": "markdown",
   "metadata": {},
   "source": [
    "# Movie Reviews Sentiment Analysis"
   ]
  },
  {
   "cell_type": "code",
   "execution_count": 26,
   "metadata": {
    "collapsed": true
   },
   "outputs": [],
   "source": [
    "%matplotlib inline\n",
    "from sklearn.cross_validation import train_test_split\n",
    "from gensim.models.word2vec import Word2Vec\n",
    "import numpy as np\n",
    "with open('/All_Files/Files/Data/gensim/sample_Data/IMDB_data/pos.txt', 'r') as infile:\n",
    "    pos_tweets = infile.readlines()\n",
    "\n",
    "with open('/All_Files/Files/Data/gensim/sample_Data/IMDB_data/neg.txt', 'r') as infile:\n",
    "    neg_tweets = infile.readlines()\n",
    "    \n",
    "with open('/All_Files/Files/Data/gensim/sample_Data/IMDB_data/unsup.txt','r') as infile:\n",
    "    unsup_reviews = infile.readlines()\n",
    "\n",
    "#use 1 for positive sentiment, 0 for negative\n",
    "y = np.concatenate((np.ones(len(pos_tweets)), np.zeros(len(neg_tweets))))\n",
    "\n",
    "x_train, x_test, y_train, y_test = train_test_split(np.concatenate((pos_tweets, neg_tweets)), y, test_size=0.5)\n",
    "\n",
    "#Do some very minor text preprocessing\n",
    "\n",
    "\n",
    "\n",
    "def cleanText(corpus):\n",
    "    import string\n",
    "    validchars = string.ascii_letters + string.digits + ' '\n",
    "    punctuation = \"\"\".,:;@(){}[]$1234567890\"\"\"\n",
    "    corpus = [z.lower().replace('\\n','') for z in corpus]\n",
    "    corpus = [z.replace('<br />', ' ') for z in corpus]\n",
    "    \n",
    "    for c in punctuation:\n",
    "        corpus =[z.replace(c, '') for z in corpus]\n",
    "    \n",
    "\n",
    "    corpus = [''.join(ch for ch in z if ch in validchars) for z in corpus]\n",
    "    \n",
    "    #treat punctuation as individual words\n",
    "    for c in punctuation:\n",
    "        corpus = [z.replace(c, ' %s '%c) for z in corpus]\n",
    "    corpus = [z.split() for z in corpus]\n",
    "#     corpus = [z.replace(' ', '_') for z in corpus]\n",
    "    return corpus\n",
    "\n",
    "\n",
    "x_train_c = cleanText(x_train)\n",
    "x_test_c = cleanText(x_test)\n",
    "unsup_  = cleanText(unsup_reviews)\n",
    "\n"
   ]
  },
  {
   "cell_type": "markdown",
   "metadata": {},
   "source": [
    "## Train Word2vec model here"
   ]
  },
  {
   "cell_type": "code",
   "execution_count": 75,
   "metadata": {
    "collapsed": false
   },
   "outputs": [
    {
     "data": {
      "text/plain": [
       "5535848"
      ]
     },
     "execution_count": 75,
     "metadata": {},
     "output_type": "execute_result"
    }
   ],
   "source": [
    "n_dim = 150\n",
    "#Initialize model and build vocab\n",
    "imdb_w2v = Word2Vec(size=n_dim, min_count=10,\n",
    "                    sentences=None, alpha=0.025, window=5, max_vocab_size=None,\n",
    "                    sample=0, seed=1, workers=6, min_alpha=0.0001, sg=1, hs=1, negative=0, cbow_mean=0,\n",
    "                    iter=1, null_word=0)\n",
    "\n",
    "\n",
    "# imdb_w2v.build_vocab(np.concatenate((unsup_,x_train)))\n",
    "imdb_w2v.build_vocab(x_train_c)\n",
    "\n",
    "# Train the model over train_reviews (this may take several minutes)\n",
    "# imdb_w2v.train(np.concatenate((unsup_,x_train)))\n",
    "imdb_w2v.train(x_train_c)"
   ]
  },
  {
   "cell_type": "code",
   "execution_count": 76,
   "metadata": {
    "collapsed": false
   },
   "outputs": [
    {
     "name": "stdout",
     "output_type": "stream",
     "text": [
      "[('decent', 0.6008697748184204), ('great', 0.5777084827423096), ('nice', 0.563409686088562), ('bad', 0.5431483387947083), ('cool', 0.5381938219070435)]\n"
     ]
    }
   ],
   "source": [
    "print imdb_w2v.most_similar(['good'], topn=5)\n",
    "# print imdb_w2v.most_similar(positive=['woman', 'king'], negative=['man'], topn=10)"
   ]
  },
  {
   "cell_type": "markdown",
   "metadata": {},
   "source": [
    "# To make DocVec based on SOMind\n",
    "### Now the question is how to make prediction at the document level"
   ]
  },
  {
   "cell_type": "code",
   "execution_count": 77,
   "metadata": {
    "collapsed": false
   },
   "outputs": [
    {
     "data": {
      "text/plain": [
       "u'0.18.0'"
      ]
     },
     "execution_count": 77,
     "metadata": {},
     "output_type": "execute_result"
    }
   ],
   "source": [
    "import pandas as pd\n",
    "import pandas.io.data\n",
    "import numpy as np\n",
    "from matplotlib import pyplot as plt\n",
    "import sys\n",
    "from sklearn.preprocessing import scale\n",
    "\n",
    "pd.__version__"
   ]
  },
  {
   "cell_type": "code",
   "execution_count": 78,
   "metadata": {
    "collapsed": false
   },
   "outputs": [
    {
     "name": "stdout",
     "output_type": "stream",
     "text": [
      "No\n",
      "data size (20332, 150)\n"
     ]
    }
   ],
   "source": [
    "# Here, we have the choice of using ay pretrained model too\n",
    "Googlevec = 'No'\n",
    "import gensim\n",
    "\n",
    "\n",
    "vocablen = len(imdb_w2v.vocab.keys())\n",
    "\n",
    "# vocablen = len(uniq_from_x_train)\n",
    "\n",
    "vector_size = imdb_w2v.vector_size\n",
    "VocabVec = np.zeros((vocablen,vector_size))\n",
    "\n",
    "vocab = imdb_w2v.vocab.keys()\n",
    "\n",
    "\n",
    "\n",
    "for i in range(vocablen):\n",
    "    if Googlevec=='Yes':\n",
    "        try:\n",
    "            VocabVec[i] = Google_w2v[vocab[i]]\n",
    "        except:\n",
    "            continue\n",
    "    else:\n",
    "        try:\n",
    "            VocabVec[i] = imdb_w2v[vocab[i]]\n",
    "        except:\n",
    "            continue\n",
    "        \n",
    "print Googlevec \n",
    "\n",
    "print 'data size', VocabVec.shape"
   ]
  },
  {
   "cell_type": "code",
   "execution_count": 79,
   "metadata": {
    "collapsed": true
   },
   "outputs": [],
   "source": [
    "def buildDocHistogram(Vocab_ind, text, ind_size,normalize='Yes'):\n",
    "    vec = np.zeros(ind_size).reshape((1, ind_size))\n",
    "    count = 0.\n",
    "    for word in text:\n",
    "        try:\n",
    "            vec[0,Vocab_ind[word]] += 1\n",
    "            count += 1.\n",
    "        except KeyError:\n",
    "            continue\n",
    "    if count != 0:\n",
    "        if normalize=='Yes':\n",
    "            vec /= count\n",
    "    return vec"
   ]
  },
  {
   "cell_type": "code",
   "execution_count": 80,
   "metadata": {
    "collapsed": false
   },
   "outputs": [
    {
     "name": "stdout",
     "output_type": "stream",
     "text": [
      "data size (20332, 150)\n"
     ]
    }
   ],
   "source": [
    "#Build new dim for vocabs based on SOMinds\n",
    "print 'data size', VocabVec.shape\n",
    "ind_final_vocab = VocabVec.sum(axis=1)!=0\n",
    "\n",
    "final_VocabVec = VocabVec[ind_final_vocab]\n",
    "\n",
    "final_vocab = list(np.asarray(vocab)[ind_final_vocab])\n",
    "Vocab_Wordind = dict(zip(final_vocab,range(len(final_vocab)) ))"
   ]
  },
  {
   "cell_type": "code",
   "execution_count": 81,
   "metadata": {
    "collapsed": false
   },
   "outputs": [
    {
     "name": "stdout",
     "output_type": "stream",
     "text": [
      "all done\n",
      "neg done\n",
      "pos done\n"
     ]
    }
   ],
   "source": [
    "ind_size = len(final_vocab)\n",
    "labels = y_train\n",
    "ind_pos = labels==1\n",
    "ind_neg = labels==0\n",
    "all_coocur_ = np.zeros((len(x_train_c),ind_size))\n",
    "for i in range(len(x_train_c)):\n",
    "    all_coocur_[i]= buildDocHistogram(Vocab_Wordind, x_train_c[i], ind_size,normalize='No')\n",
    "all_coocur_  = all_coocur_.sum(axis=0)\n",
    "\n",
    "print 'all done'\n",
    "len_neg = len(list(np.asarray(x_train_c)[ind_neg]))\n",
    "neg_coocur_ = np.zeros((len_neg,ind_size))\n",
    "for i,text in enumerate(list(np.asarray(x_train_c)[ind_neg])):\n",
    "    neg_coocur_[i,:]= buildDocHistogram(Vocab_Wordind, text, ind_size,normalize='No')\n",
    "neg_coocur_  = neg_coocur_.sum(axis=0)\n",
    "\n",
    "print 'neg done'\n",
    "len_pos = len(list(np.asarray(x_train_c)[ind_pos]))\n",
    "pos_coocur_ = np.zeros((len_pos,ind_size))\n",
    "for i,text in enumerate(list(np.asarray(x_train_c)[ind_pos])):\n",
    "    pos_coocur_[i,:]= buildDocHistogram(Vocab_Wordind, text, ind_size,normalize='No')\n",
    "pos_coocur_  = pos_coocur_.sum(axis=0)\n",
    "\n",
    "print 'pos done'"
   ]
  },
  {
   "cell_type": "code",
   "execution_count": 82,
   "metadata": {
    "collapsed": false
   },
   "outputs": [
    {
     "data": {
      "text/html": [
       "<div>\n",
       "<table border=\"1\" class=\"dataframe\">\n",
       "  <thead>\n",
       "    <tr style=\"text-align: right;\">\n",
       "      <th></th>\n",
       "      <th>words</th>\n",
       "      <th>pos_coocur_</th>\n",
       "      <th>neg_coocur_</th>\n",
       "      <th>pos_to_neg</th>\n",
       "      <th>differ</th>\n",
       "    </tr>\n",
       "  </thead>\n",
       "  <tbody>\n",
       "    <tr>\n",
       "      <th>17071</th>\n",
       "      <td>predicted</td>\n",
       "      <td>87764.0</td>\n",
       "      <td>73465.0</td>\n",
       "      <td>1.194621</td>\n",
       "      <td>14299.0</td>\n",
       "    </tr>\n",
       "    <tr>\n",
       "      <th>5983</th>\n",
       "      <td>was</td>\n",
       "      <td>171797.0</td>\n",
       "      <td>163184.0</td>\n",
       "      <td>1.052774</td>\n",
       "      <td>8613.0</td>\n",
       "    </tr>\n",
       "    <tr>\n",
       "      <th>17619</th>\n",
       "      <td>paddy</td>\n",
       "      <td>76676.0</td>\n",
       "      <td>68766.0</td>\n",
       "      <td>1.115012</td>\n",
       "      <td>7910.0</td>\n",
       "    </tr>\n",
       "    <tr>\n",
       "      <th>11015</th>\n",
       "      <td>down</td>\n",
       "      <td>56285.0</td>\n",
       "      <td>49633.0</td>\n",
       "      <td>1.134001</td>\n",
       "      <td>6652.0</td>\n",
       "    </tr>\n",
       "    <tr>\n",
       "      <th>11027</th>\n",
       "      <td>annmargret</td>\n",
       "      <td>50111.0</td>\n",
       "      <td>43690.0</td>\n",
       "      <td>1.146941</td>\n",
       "      <td>6421.0</td>\n",
       "    </tr>\n",
       "  </tbody>\n",
       "</table>\n",
       "</div>"
      ],
      "text/plain": [
       "            words  pos_coocur_  neg_coocur_  pos_to_neg   differ\n",
       "17071   predicted      87764.0      73465.0    1.194621  14299.0\n",
       "5983          was     171797.0     163184.0    1.052774   8613.0\n",
       "17619       paddy      76676.0      68766.0    1.115012   7910.0\n",
       "11015        down      56285.0      49633.0    1.134001   6652.0\n",
       "11027  annmargret      50111.0      43690.0    1.146941   6421.0"
      ]
     },
     "execution_count": 82,
     "metadata": {},
     "output_type": "execute_result"
    }
   ],
   "source": [
    "labels = y_train\n",
    "ind_pos = labels==1\n",
    "ind_neg = labels==0\n",
    "#Make the histogram of documents basedo n SOMinds\n",
    "ind_size = len(final_vocab)\n",
    "\n",
    "\n",
    "# all_coocur_ = np.concatenate([buildDocHistogram(Vocab_Wordind, z, ind_size,normalize='No') for z in x_train_c])\n",
    "# pos_coocur_ = np.concatenate([buildDocHistogram(Vocab_Wordind, z, ind_size,normalize='No') for z in list(np.asarray(x_train_c)[ind_pos])])\n",
    "# neg_coocur_ = np.concatenate([buildDocHistogram(Vocab_Wordind, z, ind_size,normalize='No') for z in list(np.asarray(x_train_c)[ind_neg])])\n",
    "\n",
    "\n",
    "# #Summing over all texts for each word\n",
    "# pos_coocur_ = pos_coocur_.sum(axis=0)\n",
    "# neg_coocur_ = neg_coocur_.sum(axis=0)\n",
    "# all_coocur_ = all_coocur_.sum(axis=0)\n",
    "\n",
    "#normalizing the values\n",
    "# pos_coocur_ = pos_coocur_/all_coocur_\n",
    "# neg_coocur_ = neg_coocur_/all_coocur_\n",
    "\n",
    "pos_to_neg = pos_coocur_/(neg_coocur_+1)\n",
    "\n",
    "sorted_features =pd.DataFrame(index=range(pos_coocur_.shape[0]))\n",
    "sorted_features['words'] = Vocab_Wordind.keys()\n",
    "sorted_features['pos_coocur_'] = pos_coocur_\n",
    "sorted_features['neg_coocur_'] = neg_coocur_\n",
    "sorted_features['pos_to_neg'] = pos_to_neg\n",
    "sorted_features['differ'] = np.abs(neg_coocur_-pos_coocur_)\n",
    "sorted_features = sorted_features.sort_values('differ',ascending=False)\n",
    "sorted_features.head()"
   ]
  },
  {
   "cell_type": "code",
   "execution_count": 83,
   "metadata": {
    "collapsed": false
   },
   "outputs": [
    {
     "data": {
      "text/plain": [
       "(20332, 5)"
      ]
     },
     "execution_count": 83,
     "metadata": {},
     "output_type": "execute_result"
    }
   ],
   "source": [
    "sorted_features.shape"
   ]
  },
  {
   "cell_type": "code",
   "execution_count": 84,
   "metadata": {
    "collapsed": false
   },
   "outputs": [
    {
     "name": "stdout",
     "output_type": "stream",
     "text": [
      "\n",
      "Total time elapsed: 153.612000 secodns\n",
      "final quantization error: 8.289663\n",
      "Training Done\n",
      "(3000, 150)\n",
      "(15000, 150)\n"
     ]
    }
   ],
   "source": [
    "\n",
    "###############\n",
    "###############\n",
    "\n",
    "\n",
    "### It seems that having all the features is not that bad! Even the results are similar, eventhough it might slow down the \n",
    "### som trainig and som projection steps, it dosne't need conditional probabilities to be calculated\n",
    "sel_features = sorted_features.index[:15000].values\n",
    "Data= final_VocabVec[sel_features,:]\n",
    "\n",
    "\n",
    "# sel_features = sorted_features.index[:].values\n",
    "# Data= final_VocabVec\n",
    "\n",
    "# len(sel_vocab)\n",
    "\n",
    "\n",
    "#Train a SOM based on vocabs\n",
    "# reload(sys.modules['sompy'])\n",
    "ind_size = 3000\n",
    "sm1 = SOM.SOM('sm', Data, mapsize = [1,ind_size],norm_method = 'var',initmethod='pca')\n",
    "# ind_size = 50*50\n",
    "sm1.train(n_job = 1, shared_memory = 'no',verbose='final')\n",
    "print 'Training Done'\n",
    "\n",
    "# sm1.hit_map()\n",
    "print sm1.codebook.shape\n",
    "\n",
    "#Remained Data\n",
    "print sm1.data.shape\n",
    "\n",
    "\n",
    "#Build new dim for vocabs based on SOMinds\n",
    "Vocab_Somind = dict(zip(list(np.asarray(final_vocab)[sel_features]), list(sm1.project_data(Data))))\n",
    "# Vocab_Somind = dict(zip(list(np.asarray(final_vocab)[:]), list(sm1.project_data(Data))))\n",
    "\n",
    "\n",
    "# Vocab_Somind = dict(zip(final_vocab, list(sm1.project_data(Data))))\n"
   ]
  },
  {
   "cell_type": "code",
   "execution_count": 85,
   "metadata": {
    "collapsed": false
   },
   "outputs": [
    {
     "data": {
      "text/html": [
       "<div>\n",
       "<table border=\"1\" class=\"dataframe\">\n",
       "  <thead>\n",
       "    <tr style=\"text-align: right;\">\n",
       "      <th></th>\n",
       "      <th>word</th>\n",
       "      <th>somind</th>\n",
       "    </tr>\n",
       "  </thead>\n",
       "  <tbody>\n",
       "    <tr>\n",
       "      <th>1334</th>\n",
       "      <td>ford</td>\n",
       "      <td>0</td>\n",
       "    </tr>\n",
       "    <tr>\n",
       "      <th>977</th>\n",
       "      <td>peter</td>\n",
       "      <td>0</td>\n",
       "    </tr>\n",
       "    <tr>\n",
       "      <th>2261</th>\n",
       "      <td>l</td>\n",
       "      <td>0</td>\n",
       "    </tr>\n",
       "    <tr>\n",
       "      <th>1021</th>\n",
       "      <td>wood</td>\n",
       "      <td>0</td>\n",
       "    </tr>\n",
       "    <tr>\n",
       "      <th>1149</th>\n",
       "      <td>holmes</td>\n",
       "      <td>0</td>\n",
       "    </tr>\n",
       "    <tr>\n",
       "      <th>1978</th>\n",
       "      <td>jr</td>\n",
       "      <td>0</td>\n",
       "    </tr>\n",
       "    <tr>\n",
       "      <th>1205</th>\n",
       "      <td>jim</td>\n",
       "      <td>0</td>\n",
       "    </tr>\n",
       "    <tr>\n",
       "      <th>2137</th>\n",
       "      <td>sir</td>\n",
       "      <td>0</td>\n",
       "    </tr>\n",
       "    <tr>\n",
       "      <th>11396</th>\n",
       "      <td>williams</td>\n",
       "      <td>0</td>\n",
       "    </tr>\n",
       "    <tr>\n",
       "      <th>11322</th>\n",
       "      <td>wayne</td>\n",
       "      <td>0</td>\n",
       "    </tr>\n",
       "  </tbody>\n",
       "</table>\n",
       "</div>"
      ],
      "text/plain": [
       "           word  somind\n",
       "1334       ford       0\n",
       "977       peter       0\n",
       "2261          l       0\n",
       "1021       wood       0\n",
       "1149     holmes       0\n",
       "1978         jr       0\n",
       "1205        jim       0\n",
       "2137        sir       0\n",
       "11396  williams       0\n",
       "11322     wayne       0"
      ]
     },
     "execution_count": 85,
     "metadata": {},
     "output_type": "execute_result"
    }
   ],
   "source": [
    "DF = pd.DataFrame()\n",
    "DF['word']=np.asarray(final_vocab)[sel_features]\n",
    "b = sm1.project_data(Data)\n",
    "DF['somind'] = b\n",
    "\n",
    "DF.sort_values('somind')[:10]"
   ]
  },
  {
   "cell_type": "code",
   "execution_count": 86,
   "metadata": {
    "collapsed": true
   },
   "outputs": [],
   "source": [
    "\n",
    "from sklearn.preprocessing import scale\n",
    "#Make the histogram of documents basedo n SOMinds\n",
    "train_vecs = np.concatenate([buildDocHistogram(Vocab_Somind, z, ind_size) for z in x_train_c])\n",
    "train_vecs = scale(train_vecs)\n",
    "\n",
    "\n",
    "test_vecs = np.concatenate([buildDocHistogram(Vocab_Somind, z, ind_size) for z in x_test_c])\n",
    "test_vecs = scale(test_vecs)\n",
    "\n"
   ]
  },
  {
   "cell_type": "code",
   "execution_count": 87,
   "metadata": {
    "collapsed": true
   },
   "outputs": [],
   "source": [
    "# #now select the most informative features (here are sominds, but we can do this on original words too)\n",
    "\n",
    "# def calc_conditional_feature_importance(corpus_mat,labels):\n",
    "#     #corpus_mat is the original matrix where each row is one record and columns are features, where are either words or sominds\n",
    "#     #sentiments are labels\n",
    "#     #it returns a matrix showing the relative importance of each feature regarding to each label\n",
    "#     pos_coocur_ = np.zeros((corpus_mat.shape[1],1))\n",
    "#     neg_coocur_ = np.zeros((corpus_mat.shape[1],1))\n",
    "#     ind_pos = labels==1\n",
    "#     ind_neg = labels==0\n",
    "#     for i in range(corpus_mat.shape[1]):\n",
    "#         pos_coocur_[i] = np.sum(corpus_mat[ind_pos,i])\n",
    "#         neg_coocur_[i] = np.sum(corpus_mat[ind_neg,i])\n",
    "#         sum_ = (pos_coocur_[i]+neg_coocur_[i])\n",
    "#         if sum_ !=0:\n",
    "#             pos_coocur_[i] = pos_coocur_[i]/sum_\n",
    "#             neg_coocur_[i] = neg_coocur_[i]/sum_\n",
    "        \n",
    "# #             print i\n",
    "#     DF =pd.DataFrame(index=range(corpus_mat.shape[1]))\n",
    "#     DF['pos_coocur_'] = pos_coocur_\n",
    "#     DF['neg_coocur_'] = neg_coocur_\n",
    "#     DF['differ'] = np.abs(neg_coocur_-pos_coocur_)\n",
    "#     DF = DF.sort_values('differ',ascending=False)\n",
    "#     return DF"
   ]
  },
  {
   "cell_type": "markdown",
   "metadata": {},
   "source": [
    "# Predictor \n",
    "it can be any method"
   ]
  },
  {
   "cell_type": "code",
   "execution_count": 91,
   "metadata": {
    "collapsed": false
   },
   "outputs": [
    {
     "name": "stdout",
     "output_type": "stream",
     "text": [
      "             precision    recall  f1-score   support\n",
      "\n",
      "        0.0       0.85      0.84      0.85     12542\n",
      "        1.0       0.84      0.85      0.85     12458\n",
      "\n",
      "avg / total       0.85      0.85      0.85     25000\n",
      "\n"
     ]
    }
   ],
   "source": [
    "#Use classification algorithm (i.e. Stochastic Logistic Regression) on training set, then assess model performance on test set\n",
    "from sklearn.linear_model import SGDClassifier\n",
    "import sklearn.linear_model as lm\n",
    "lm.RidgeClassifier\n",
    "from sklearn.decomposition import RandomizedPCA\n",
    "\n",
    "\n",
    "# howmany = range(10,sm1.nnodes,200)\n",
    "# # howmany = range(10,15000,500)\n",
    "# howmany = range(sm1.nnodes,sm1.nnodes+1)\n",
    "clf = lm.RidgeClassifier()\n",
    "# from sklearn.neighbors import KNeighborsClassifier\n",
    "# clf = KNeighborsClassifier(n_neighbors=5)\n",
    "# clf = lm.SGDClassifier(loss=\"hinge\", alpha=0.01, n_iter=200)\n",
    "\n",
    "# import sklearn.ensemble as ensemble\n",
    "# clf = ensemble.RandomForestRegressor(n_jobs=1) \n",
    "\n",
    "\n",
    "\n",
    "\n",
    "\n",
    "\n",
    "X_Train = train_vecs[:]\n",
    "X_Test = test_vecs[:]\n",
    "\n",
    "# pca = RandomizedPCA(n_components=int(.05*X_Train.shape[1]))\n",
    "# pca.fit(X_Train)\n",
    "# X_Train = pca.transform(X_Train)\n",
    "# X_Test = pca.transform(X_Test)\n",
    "\n",
    "\n",
    "\n",
    "\n",
    "clf.fit(X_Train, y_train)\n",
    "\n",
    "\n",
    "\n",
    "\n",
    "import sklearn.metrics as metrics\n",
    "print metrics.classification_report(y_test,clf.predict(X_Test))"
   ]
  },
  {
   "cell_type": "markdown",
   "metadata": {
    "collapsed": true
   },
   "source": [
    "## Some extensions\n",
    "* **Doc2vec**\n",
    "    * https://arxiv.org/pdf/1405.4053v2.pdf\n",
    "* **Thought vector: In the same direction in other compression applications**"
   ]
  },
  {
   "cell_type": "markdown",
   "metadata": {
    "collapsed": true
   },
   "source": [
    "# One of my previous test application for news analysis\n",
    "http://todo-vahidmoosavi.rhcloud.com/somnews\n"
   ]
  }
 ],
 "metadata": {
  "kernelspec": {
   "display_name": "Python [default]",
   "language": "python",
   "name": "python2"
  },
  "language_info": {
   "codemirror_mode": {
    "name": "ipython",
    "version": 2
   },
   "file_extension": ".py",
   "mimetype": "text/x-python",
   "name": "python",
   "nbconvert_exporter": "python",
   "pygments_lexer": "ipython2",
   "version": "2.7.13"
  }
 },
 "nbformat": 4,
 "nbformat_minor": 0
}
